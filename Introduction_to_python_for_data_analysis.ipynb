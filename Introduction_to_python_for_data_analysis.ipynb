{
  "nbformat": 4,
  "nbformat_minor": 0,
  "metadata": {
    "colab": {
      "provenance": [],
      "authorship_tag": "ABX9TyNgCq3lUqOA6FtgnNCPu/3h",
      "include_colab_link": true
    },
    "kernelspec": {
      "name": "python3",
      "display_name": "Python 3"
    },
    "language_info": {
      "name": "python"
    }
  },
  "cells": [
    {
      "cell_type": "markdown",
      "metadata": {
        "id": "view-in-github",
        "colab_type": "text"
      },
      "source": [
        "<a href=\"https://colab.research.google.com/github/TamaraDelToro/Coding_Community_Resources/blob/main/Introduction_to_python_for_data_analysis.ipynb\" target=\"_parent\"><img src=\"https://colab.research.google.com/assets/colab-badge.svg\" alt=\"Open In Colab\"/></a>"
      ]
    },
    {
      "cell_type": "markdown",
      "source": [
        "# **Introduction to python for data analysis**\n",
        "\n",
        "### 👋 **Welcome to our first session on using Python programming for data analysis.**\n",
        "\n",
        "This notebook is designed to introduce you to Python programming in a hands-on, beginner-friendly way. Whether you've never written a line of code before or are just getting started, this session will guide you through the basics of Python, with a focus on how it can be used to explore and analyze biomedical data.\n",
        "\n",
        "You’ll learn how to:\n",
        "\n",
        "*  Write simple Python code 🐍\n",
        "\n",
        "*  Work with real datasets using pandas 🐼\n",
        "\n",
        "*  Visualize your data using matplotlib 📊\n",
        "\n",
        "*  Build confidence to continue learning on your own 😎\n",
        "\n",
        "\n",
        "You don’t need to be a coder to follow along — this session is all about helping you build confidence with the essentials. We'll work through examples together and leave you with a notebook you can revisit anytime 🧡\n",
        "\n"
      ],
      "metadata": {
        "id": "RDQ0w7veS5Ai"
      }
    },
    {
      "cell_type": "markdown",
      "source": [
        "## **Why Python? (vs. R)**\n",
        "\n",
        "Python and R are both powerful tools for data analysis, and in truth, both are great depending on your needs. Here's why we're using Python for this session:\n",
        "\n",
        "*  🔨 **Versatility**: Python is a general-purpose language used in web development, automation, machine learning, and scientific computing. Learning Python opens a lot of doors beyond data analysis.\n",
        "*  🌎 **Wider ecosystem**: Python integrates well with other tools (e.g., databases, APIs, machine learning models), which is helpful in biomedical research pipelines.\n",
        "*  📚 **Readable & beginner friendly**: Python has a clean, intuitive syntax that many find easier to learn than R’s.\n",
        "*  🤝 **Growing adoption in biomedicine**: Increasingly, biomedical researchers and clinicians are adopting Python for data analysis, especially in fields like genomics, epidemiology, and digital health.\n",
        "\n",
        "That said, R is excellent, particularly for statistical modeling and data visualization. If you already know R — great! If not, Python is a strong place to begin your coding journey."
      ],
      "metadata": {
        "id": "QhAE-tFf10bj"
      }
    },
    {
      "cell_type": "markdown",
      "source": [
        "## 🐍 **1. Python Basics: Just Enough to Get Started**\n",
        "\n",
        "Before we work with data, let’s get familiar with a few foundations of Python.\n",
        "\n",
        "###🔤 **Variables**\n",
        "\n",
        "A variable stores information so you can use it later.\n",
        "\n",
        "```python\n",
        "name = \"Alice\"\n",
        "age = 30\n",
        "```\n",
        "\n",
        "Now `name` is a variable that contains the text \"Alice\" and `age` contains the number 30.\n",
        "\n",
        "---\n",
        "\n",
        "###🔢 **Data Types**\n",
        "\n",
        "Different kinds of information are called data types. Here are some common ones:\n",
        "```python\n",
        "text = \"hello\"       # a string (text)\n",
        "number = 5           # an integer\n",
        "height = 1.70        # a float (decimal number)\n",
        "is_smoker = False    # a boolean (True or False)\n",
        "```\n",
        "\n",
        "---\n",
        "###📚 **Lists**\n",
        "\n",
        "A list holds multiple things in order — like a collection.\n",
        "\n",
        "`ages = [25, 30, 35, 40]`\n",
        "\n",
        "You can access items with their position (in python, counting starts from 0):\n",
        "\n",
        "`print(ages[0])  # prints 25`\n",
        "\n",
        "---\n",
        "###🗂️ **Dictionaries**\n",
        "\n",
        "A dictionary stores data in pairs: keys and values.\n",
        "\n",
        "```python\n",
        "patient = {\n",
        "    \"name\": \"Alice\",\n",
        "    \"age\": 30,\n",
        "    \"smoker\": False\n",
        "}\n",
        "print(patient[\"name\"])  # prints \"Alice\"\n",
        "```\n",
        "\n",
        "---\n",
        "###🧰 **Functions and Methods**\n",
        "\n",
        "A function is like a little machine that does something for you.\n",
        "```python\n",
        "print(\"hello\")      # prints text to screen\n",
        "len(ages)           # gives the length of a list\n",
        "```\n",
        "Some things, like strings and lists, have methods (functions that belong to them):\n",
        "\n",
        "`name.upper()        # makes the text uppercase`\n",
        "\n",
        "---\n",
        "###💬 **Comments**\n",
        "\n",
        "Comments help you explain your code — Python ignores them when running.\n",
        "\n",
        "`# This is a comment`"
      ],
      "metadata": {
        "id": "1KMI7YlA49Vt"
      }
    },
    {
      "cell_type": "markdown",
      "source": [
        "###🧠 **Practice Time: Python Basics**\n",
        "\n",
        "Try solving the following exercises on your own. Don’t worry if you don’t get them right the first time—learning to code is all about trying things out!\n",
        "\n",
        "1️⃣ **Create and print a variable**\n",
        "\n",
        "Create a variable called name and assign your name to it.\n",
        "\n",
        "Print a sentence that says: `Hello, my name is [your name]`\n",
        "\n",
        "💡 *Hint - you might want to use the `print()` function!*"
      ],
      "metadata": {
        "id": "07gp2pxx6v8b"
      }
    },
    {
      "cell_type": "code",
      "source": [
        "# Exercise 1: Create and print a variable\n",
        "my_name =\n",
        "print('Hello, my name is', ______)"
      ],
      "metadata": {
        "id": "CFWYlW1O9VAR",
        "colab": {
          "base_uri": "https://localhost:8080/"
        },
        "outputId": "814e3ba0-67e4-4954-963b-64e1e5acfcb4"
      },
      "execution_count": 1,
      "outputs": [
        {
          "output_type": "stream",
          "name": "stdout",
          "text": [
            "Hello, mu name is Tamara\n"
          ]
        }
      ]
    },
    {
      "cell_type": "markdown",
      "source": [
        "2️⃣ **What type is this?**\n",
        "\n",
        "Create the following variables:\n",
        "\n",
        "```python\n",
        "age = 30\n",
        "height = 1.75\n",
        "is_student = True\n",
        "```\n",
        "Use the `type()` function to print the type of each variable."
      ],
      "metadata": {
        "id": "XBmXVVbW9lgt"
      }
    },
    {
      "cell_type": "code",
      "source": [
        "# Exercise 2: What type is this?\n"
      ],
      "metadata": {
        "id": "VR26qTYe9dIo"
      },
      "execution_count": null,
      "outputs": []
    },
    {
      "cell_type": "markdown",
      "source": [
        "3️⃣ **Importing and using a library**\n",
        "\n",
        "Import the math library.\n",
        "\n",
        "Use it to calculate the square root of 144\n",
        "\n",
        "💡 *Hint: a square root can be calculated like this `math.sqrt()`."
      ],
      "metadata": {
        "id": "sXxSy98-92Si"
      }
    },
    {
      "cell_type": "code",
      "source": [
        "# Exercise 3: importing and using a library\n"
      ],
      "metadata": {
        "id": "QnCNWXZ2-cuh"
      },
      "execution_count": null,
      "outputs": []
    },
    {
      "cell_type": "markdown",
      "source": [
        "4️⃣ **Mini Challenge: Combining text and numbers**\n",
        "\n",
        "Create two variables: temperature = 36.6 and unit = \"Celsius\"\n",
        "\n",
        "Print: `Your body temperature is 36.6 Celsius`\n"
      ],
      "metadata": {
        "id": "niUa8Tk_-YZh"
      }
    },
    {
      "cell_type": "code",
      "source": [
        "# Mini challenge: combining text and numbers\n",
        "# Create your variables\n",
        "\n",
        "\n",
        "# Print the sentence\n",
        "print(\"Your body temperature is\", _______, _______)\n",
        "\n"
      ],
      "metadata": {
        "colab": {
          "base_uri": "https://localhost:8080/"
        },
        "id": "G9RmlUjv_Ljs",
        "outputId": "e1bd5e82-abad-4dcb-8280-c63cfd687693"
      },
      "execution_count": 2,
      "outputs": [
        {
          "output_type": "stream",
          "name": "stdout",
          "text": [
            "Your body temperature is 36.6 Celsius\n"
          ]
        }
      ]
    },
    {
      "cell_type": "markdown",
      "source": [
        "## 📦 **2. Libraries**\n",
        "\n",
        "Before we dive into data, let's load the main tools we'll use:\n",
        "\n",
        "| 📦 Library | 🔍 What It’s For |\n",
        "|------------|------------------|\n",
        "| `pandas`   | For working with **tables of data** (like Excel but more powerful). |\n",
        "| `numpy`    | For doing **maths and calculations**, especially on large datasets. |\n",
        "| `matplotlib.pyplot` | For **making simple graphs and charts** to visualise your data. |\n",
        "\n",
        "These are **libraries**. Libraries **contain** useful code that allows you to carry out particular tasks, beyong that which base python allows.\n",
        "\n",
        "When using a function in python that belongs to a library, you have to call the library first:\n",
        "\n",
        "`library.function()`\n",
        "\n",
        "**We can give libraries nicknames** when we import them, so that we dont have to write out their full name everytime. While you can name them whatever you want, **there are some commonly used nicknames that will make your code more readable to others!**\n",
        "\n",
        "Write these into the code cell below and run to load your libraries:\n",
        "*  `import pandas as pd`\n",
        "*  `import matplotlib.pyplot as plt`\n",
        "*  `import numpy as np`\n",
        "\n",
        "✅ If you're using Google Colab, these libraries are already installed.\n",
        "\n",
        "💻 If you're working locally, you can install them with:\n",
        "\n",
        "`!pip install pandas matplotlib numpy`"
      ],
      "metadata": {
        "id": "85UtpHLZ3Qjp"
      }
    },
    {
      "cell_type": "code",
      "source": [
        "# Load your libraries here\n",
        "import _____ as ___"
      ],
      "metadata": {
        "id": "kj0rI7PN4zXb"
      },
      "execution_count": 19,
      "outputs": []
    },
    {
      "cell_type": "markdown",
      "source": [
        "## 💻 **Section 3: Intro to Data Analysis with Pandas**\n",
        "###🐼 **What is Pandas?**\n",
        "\n",
        "Pandas is a powerful Python library used to work with structured data. It allows you to load, explore, manipulate, and analyze data with ease—kind of like working with spreadsheets or SQL tables, but in Python.\n",
        "\n",
        "We mainly work with two data types:\n",
        "\n",
        "<table>\n",
        "  <tr>\n",
        "    <th>Type</th>\n",
        "    <th>Description</th>\n",
        "    <th>Analogy</th>\n",
        "  </tr>\n",
        "  <tr>\n",
        "    <td><code>Series</code></td>\n",
        "    <td>A one-dimensional labelled array</td>\n",
        "    <td>A single column</td>\n",
        "  </tr>\n",
        "  <tr>\n",
        "    <td><code>DataFrame</code></td>\n",
        "    <td>A two-dimensional table of rows and columns</td>\n",
        "    <td>Like an Excel sheet or SQL table</td>\n",
        "  </tr>\n",
        "</table>\n",
        "\n",
        "---\n",
        "###📥 **Loading Data**\n",
        "Paste the following into a code cell:\n",
        "```python\n",
        "# Load the Pima Indians Diabetes dataset\n",
        "url = \"https://raw.githubusercontent.com/jbrownlee/Datasets/master/pima-indians-diabetes.data.csv\"\n",
        "columns = ['Pregnancies', 'Glucose', 'BloodPressure', 'SkinThickness', 'Insulin', 'BMI', 'DiabetesPedigreeFunction', 'Age', 'Diabetes']\n",
        "df = pd.read_csv(url, names=columns)\n",
        "\n",
        "# Display the first few rows\n",
        "df.head()\n",
        "```"
      ],
      "metadata": {
        "id": "4tPQ5Hvr_Q6c"
      }
    },
    {
      "cell_type": "code",
      "source": [
        "# Copy the code here\n"
      ],
      "metadata": {
        "id": "ICvoXGPiBXfT"
      },
      "execution_count": 12,
      "outputs": []
    },
    {
      "cell_type": "code",
      "source": [
        "# Try df.head(2) and df.head(20) - what happens?\n"
      ],
      "metadata": {
        "id": "A6SQFeBspu8L"
      },
      "execution_count": null,
      "outputs": []
    },
    {
      "cell_type": "markdown",
      "source": [
        "###🔍 **Exploring the Dataset**\n",
        "👉 Try running the following code:\n",
        "```python\n",
        "# Overview of the dataset\n",
        "df.info()\n",
        "\n",
        "# Summary statistics\n",
        "df.describe()\n",
        "\n",
        "# Column names\n",
        "df.columns\n",
        "\n",
        "# Check for missing values\n",
        "df.isnull().sum()\n",
        "```"
      ],
      "metadata": {
        "id": "Ric9LfghBdU7"
      }
    },
    {
      "cell_type": "code",
      "source": [
        "# Try it out! - do you know what each function is doing?\n"
      ],
      "metadata": {
        "id": "urlWKqflBooj"
      },
      "execution_count": null,
      "outputs": []
    },
    {
      "cell_type": "markdown",
      "source": [
        "###📊 **Selecting and Filtering Data**\n",
        "👉 Code cell:\n",
        "```python\n",
        "# Select a single column (e.g., glucose levels)\n",
        "df['Glucose']\n",
        "\n",
        "# Select multiple columns\n",
        "df[['Glucose', 'Insulin']]\n",
        "\n",
        "# Filter: patients with high BMI (> 30)\n",
        "df[df['BMI'] > 30]\n",
        "\n",
        "# Filter: patients with diabetes\n",
        "df[df['Diabetes'] == 1]\n",
        "```\n",
        "\n"
      ],
      "metadata": {
        "id": "0Y2JHoIuBqeL"
      }
    },
    {
      "cell_type": "code",
      "source": [
        "# Give the a go here\n",
        "\n"
      ],
      "metadata": {
        "id": "AySfapUjOKHq"
      },
      "execution_count": null,
      "outputs": []
    },
    {
      "cell_type": "markdown",
      "source": [
        "###🧪 **Guided Exercise**\n",
        "\n",
        "🔬 Try this!\n",
        "\n",
        "Let’s explore the dataset using what we’ve learned so far. Some code is provided to help you get started:\n",
        "\n",
        "✅ Print the number of patients in the dataset\n",
        "\n",
        "✅ Find the average glucose level\n",
        "\n",
        "✅ Count how many patients have diabetes\n",
        "\n",
        "✅ Find the average BMI of patients who do not have diabetes\n",
        "\n",
        "👉 Code cell:\n",
        "```python\n",
        "# 1. Number of patients in the dataset\n",
        "print(\"Total patients:\", len(df))\n",
        "\n",
        "# 2. Average glucose level\n",
        "print(\"Average glucose level:\", df['Glucose'].mean())\n",
        "\n",
        "# 3. Number of patients with diabetes\n",
        "print(\"Patients with diabetes:\", df[df['Diabetes'] == 1].shape[0])\n",
        "\n",
        "# 4. Average BMI of patients without diabetes\n",
        "print(\"Average BMI (non-diabetic patients):\", df[df['Diabetes'] == 0]['BMI'].mean())\n",
        "```\n",
        "\n",
        "❔Can you figure out what each function does?"
      ],
      "metadata": {
        "id": "o23SdFXAOJPi"
      }
    },
    {
      "cell_type": "code",
      "source": [
        "# Explore the functions here and figure out what each is doing\n"
      ],
      "metadata": {
        "id": "0nheah33Cxyv"
      },
      "execution_count": null,
      "outputs": []
    },
    {
      "cell_type": "markdown",
      "source": [
        "##📊 **4. Visualising Data in Python**\n",
        "Why Visualise?\n",
        "\n",
        "Data visualisation helps us:\n",
        "\n",
        "🧠 Understand trends and patterns\n",
        "\n",
        "🔍 Spot outliers or missing data\n",
        "\n",
        "🗣 Communicate findings clearly\n",
        "\n",
        "---\n",
        "###🧰 **Libraries for Visualisation**\n",
        "| Library     | Purpose                                      |\n",
        "|-------------|----------------------------------------------|\n",
        "| `matplotlib`| The foundational Python plotting library     |\n",
        "| `seaborn`   | Built on top of matplotlib, prettier & easier |\n",
        "\n",
        "We’ll start with matplotlib, then briefly show how seaborn improves the look.\n",
        "\n",
        "---\n",
        "###🔨 **Basic Plot with matplotlib**\n",
        "Let’s make a histogram of BMI values to see how body mass index is distributed in our dataset.\n",
        "```python\n",
        "# Histogram of BMI\n",
        "plt.hist(df['BMI'], bins=20, color='skyblue', edgecolor='black')\n",
        "plt.title(\"BMI Distribution\")\n",
        "plt.xlabel(\"BMI\")\n",
        "plt.ylabel(\"Number of Patients\")\n",
        "plt.show()\n",
        "```"
      ],
      "metadata": {
        "id": "kAxvBnNMC2d-"
      }
    },
    {
      "cell_type": "code",
      "source": [
        "# Try it yourself!\n",
        "\n"
      ],
      "metadata": {
        "id": "THJ2P5g_Dyaz"
      },
      "execution_count": null,
      "outputs": []
    },
    {
      "cell_type": "markdown",
      "source": [
        "Now, try changing the column in the code below to visualise a different variable (like `glucose`, `age`, or `blood_pressure` if available)\n",
        "\n"
      ],
      "metadata": {
        "id": "y5rFMABJEEUZ"
      }
    },
    {
      "cell_type": "code",
      "source": [
        "# Modify the column here!\n",
        "plt.hist(df['Glucose'], bins=20, color='salmon', edgecolor='black')\n",
        "plt.title(\"Glucose Distribution\")\n",
        "plt.xlabel(\"Glucose Level\")\n",
        "plt.ylabel(\"Number of Patients\")\n",
        "plt.show()"
      ],
      "metadata": {
        "id": "Xe2lJQDGELXj"
      },
      "execution_count": null,
      "outputs": []
    },
    {
      "cell_type": "markdown",
      "source": [
        "###🎨 **Enter seaborn — Better Visuals, Less Code**\n",
        "\n",
        "Here’s how to make a similar plot using seaborn. Notice how it’s simpler and more aesthetic."
      ],
      "metadata": {
        "id": "8-oH54OjENlj"
      }
    },
    {
      "cell_type": "code",
      "source": [
        "import seaborn as sns\n",
        "\n",
        "# Seaborn histogram\n",
        "sns.histplot(df['BMI'], kde=True, color='purple')\n",
        "plt.title(\"BMI Distribution with KDE\")\n",
        "plt.xlabel(\"BMI\")\n",
        "plt.ylabel(\"Number of Patients\")\n",
        "plt.show()"
      ],
      "metadata": {
        "id": "2m23xKcFETAa"
      },
      "execution_count": null,
      "outputs": []
    },
    {
      "cell_type": "markdown",
      "source": [
        "###🧠 **Quick Challenge**\n",
        "\n",
        "Change the code above to show the distribution of `glucose` or `age` instead.\n",
        "Bonus: Add `hue='diabetes'` to explore how the variable differs between diabetic and non-diabetic patients."
      ],
      "metadata": {
        "id": "5LHQItF5EV2r"
      }
    },
    {
      "cell_type": "code",
      "source": [
        "# Quick challenge - explore seaborn here\n"
      ],
      "metadata": {
        "id": "mE0p-mEDEnk7"
      },
      "execution_count": null,
      "outputs": []
    },
    {
      "cell_type": "markdown",
      "source": [
        "###📊 5. Simple Statistical Analysis in Python\n",
        "In biomedical sciences, we often want to **summarize data, compare groups, and understand relationships between variables**. Let's explore how Python can help with basic stats.\n",
        "\n",
        "###🧪 **Descriptive Statistics**\n",
        "You can quickly get a summary of your dataset using pandas:\n",
        "```python\n",
        "# Example DataFrame\n",
        "data = {\n",
        "    \"Patient_ID\": [1, 2, 3, 4, 5],\n",
        "    \"Age\": [25, 47, 35, 52, 41],\n",
        "    \"Cholesterol_Level\": [180, 220, 190, 250, 200]\n",
        "}\n",
        "df = pd.DataFrame(data)\n",
        "\n",
        "# Summary stats\n",
        "df.describe()\n",
        "```\n",
        "💡 `describe()` gives you count, mean, std deviation, min, max, and percentiles — super handy for a quick overview."
      ],
      "metadata": {
        "id": "VIVOrv3jEmuv"
      }
    },
    {
      "cell_type": "code",
      "source": [
        "# Try it yourself!\n",
        "\n"
      ],
      "metadata": {
        "id": "_YoJeI6LFB76"
      },
      "execution_count": null,
      "outputs": []
    },
    {
      "cell_type": "markdown",
      "source": [
        "###📐 **Comparing Two Groups: t-test (with scipy)**\n",
        "Let’s say you want to compare cholesterol levels between two treatment groups:\n",
        "```python\n",
        "from scipy import stats\n",
        "\n",
        "# Simulated example\n",
        "group_A = [180, 190, 195, 205, 210]\n",
        "group_B = [200, 220, 215, 225, 230]\n",
        "\n",
        "# Perform an independent t-test\n",
        "t_stat, p_value = stats.ttest_ind(group_A, group_B)\n",
        "\n",
        "print(\"T-statistic:\", t_stat)\n",
        "print(\"P-value:\", p_value)\n",
        "```"
      ],
      "metadata": {
        "id": "OaS_jyZYFGTb"
      }
    },
    {
      "cell_type": "code",
      "source": [
        "# What do you get?\n"
      ],
      "metadata": {
        "id": "JtBcsWbfFQlT"
      },
      "execution_count": null,
      "outputs": []
    },
    {
      "cell_type": "markdown",
      "source": [
        "###🧠 **Correlation: Finding Relationships Between Variables**\n",
        "```python\n",
        "# Correlation between Age and Cholesterol\n",
        "correlation = df[\"Age\"].corr(df[\"Cholesterol_Level\"])\n",
        "print(\"Correlation coefficient:\", correlation)\n",
        "```"
      ],
      "metadata": {
        "id": "lDhxcw95FSfb"
      }
    },
    {
      "cell_type": "code",
      "source": [
        "# Try it out\n"
      ],
      "metadata": {
        "id": "yrkv5nM9FdKb"
      },
      "execution_count": null,
      "outputs": []
    },
    {
      "cell_type": "markdown",
      "source": [
        "##🎉 **Wrapping Up**\n",
        "You’ve just taken your **first steps into data analysis with Python**! From loading data and summarizing it to visualizing and analyzing relationships, you're now equipped to start exploring real-world biomedical datasets.\n",
        "\n",
        "\n",
        "🌟 *Remember: Programming is a muscle — the more you use it, the stronger it gets.*"
      ],
      "metadata": {
        "id": "ttlsdhx8FgKz"
      }
    }
  ]
}