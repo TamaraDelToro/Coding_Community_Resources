{
  "nbformat": 4,
  "nbformat_minor": 0,
  "metadata": {
    "colab": {
      "provenance": []
    },
    "kernelspec": {
      "name": "python3",
      "display_name": "Python 3"
    },
    "language_info": {
      "name": "python"
    }
  },
  "cells": [
    {
      "cell_type": "code",
      "execution_count": null,
      "metadata": {
        "id": "LoKbIDrRxYV1"
      },
      "outputs": [],
      "source": []
    },
    {
      "cell_type": "markdown",
      "source": [
        "# Planning your experiment – statistical power, sample size, replicates…"
      ],
      "metadata": {
        "id": "TOkKJRAwx0uk"
      }
    },
    {
      "cell_type": "markdown",
      "source": [
        "# Collecting the data – wrangling…"
      ],
      "metadata": {
        "id": "cWG0fgunyM0g"
      }
    },
    {
      "cell_type": "markdown",
      "source": [
        "### Tidyverse basics"
      ],
      "metadata": {
        "id": "4x7M4luXzWjz"
      }
    },
    {
      "cell_type": "code",
      "source": [
        "# Install the tidyverse\n",
        "install.packages(\"tidyverse\")"
      ],
      "metadata": {
        "id": "h2BCRzXhzAg5"
      },
      "execution_count": null,
      "outputs": []
    },
    {
      "cell_type": "code",
      "source": [
        "# Import the Tidyverse\n",
        "library(tidyverse)\n",
        "\n",
        "# Import data\n",
        "passengers <- read.csv(\"data/train.csv\")"
      ],
      "metadata": {
        "id": "w2Gnojwh5cvw"
      },
      "execution_count": null,
      "outputs": []
    },
    {
      "cell_type": "code",
      "source": [
        "# Check out the first several observations of your dataframe\n",
        "passengers"
      ],
      "metadata": {
        "id": "Uv2u6U-66CGB"
      },
      "execution_count": null,
      "outputs": []
    },
    {
      "cell_type": "markdown",
      "source": [
        "### Pipes\n",
        "\n",
        "\n",
        "To make R code more human readable, the Tidyverse tools use the pipe, %>%, which was acquired from the ‘magrittr’ package and comes installed automatically with Tidyverse. The pipe allows the output of a previous command to be used as input to another command instead of using nested functions.\n"
      ],
      "metadata": {
        "id": "dAEbr5h8zA_B"
      }
    },
    {
      "cell_type": "code",
      "source": [
        "# Check out the first several observations of your dataframe USINF A PIPE\n",
        "passengers %>%\n",
        "  summary()"
      ],
      "metadata": {
        "id": "IMDqJJAbzgsd"
      },
      "execution_count": null,
      "outputs": []
    },
    {
      "cell_type": "markdown",
      "source": [
        "HINT: you can concatenate pipes!"
      ],
      "metadata": {
        "id": "86Fh4S5d6cO-"
      }
    },
    {
      "cell_type": "code",
      "source": [
        "# Check out the first several observations of your dataframe after dropping observations that have missing values\n",
        "passengers %>%\n",
        "  drop_na() %>%\n",
        "  summary()"
      ],
      "metadata": {
        "id": "aa6eYXkAzjc-"
      },
      "execution_count": null,
      "outputs": []
    },
    {
      "cell_type": "markdown",
      "source": [
        "### Wrangle your Data - using filter(), arrange() and mutate()\n"
      ],
      "metadata": {
        "id": "_J_uQJ-EzkeP"
      }
    },
    {
      "cell_type": "code",
      "source": [
        "# choose a particular set of observations, say, those for which the \"Sex\" was 'female'\n",
        "passengers %>%\n",
        "  filter(Sex == \"female\")"
      ],
      "metadata": {
        "id": "qM1Hki5e7YR2"
      },
      "execution_count": null,
      "outputs": []
    },
    {
      "cell_type": "code",
      "source": [
        "# sort your observations by increasing 'Fare' to see if you can notice any trends\n",
        "passengers %>%\n",
        "  arrange(Fare)\n",
        "\n",
        "# NOTE: by default, arrange() sorts in increasing order\n",
        "\n",
        "# Arrange by decreasing Fare\n",
        "passengers %>%\n",
        "  arrange(desc(Fare))"
      ],
      "metadata": {
        "id": "-tIvm9gO7sjQ"
      },
      "execution_count": null,
      "outputs": []
    },
    {
      "cell_type": "code",
      "source": [
        "# feature engineering: create a new variable by adding two existing variables from the dataset\n",
        "# 1 - 'Parch' is the number of parents and children\n",
        "# 2 - 'SibSp' is the number of siblings and spouses\n",
        "\n",
        "# You can add these together to get a new variable 'FamSize' (will be added as an extra columna at the end of the dataset)\n",
        "\n",
        "passengers %>%\n",
        "  mutate(FamSize = Parch + SibSp)"
      ],
      "metadata": {
        "id": "f-A5BGkj8K2W"
      },
      "execution_count": null,
      "outputs": []
    },
    {
      "cell_type": "markdown",
      "source": [
        "### Summarizing and Grouping your Data"
      ],
      "metadata": {
        "id": "7OTypMFW9Dz3"
      }
    },
    {
      "cell_type": "code",
      "source": [
        "# Use summarise() to find out the mean fare paid\n",
        "passengers %>%\n",
        "  summarise(meanFare = mean(Fare))"
      ],
      "metadata": {
        "id": "FGTP-i62724c"
      },
      "execution_count": null,
      "outputs": []
    },
    {
      "cell_type": "code",
      "source": [
        "# Use summarise() to find out the median fare paid\n",
        "passengers %>%\n",
        "  summarise(medianFare = median(Fare))"
      ],
      "metadata": {
        "id": "IQ_WYp169X6P"
      },
      "execution_count": null,
      "outputs": []
    },
    {
      "cell_type": "code",
      "source": [
        "# Use the filter() and summarise() together to find out the mean fare paid among men:\n",
        "passengers %>%\n",
        "  filter(Sex == \"male\") %>%\n",
        "  summarise(meanFare = mean(Fare))"
      ],
      "metadata": {
        "id": "FO_0-d7G9X8W"
      },
      "execution_count": null,
      "outputs": []
    },
    {
      "cell_type": "code",
      "source": [
        "# Use filter() and summarise() to find out the mean fare paid among women and how many women survived:\n",
        "passengers %>%\n",
        "  filter(Sex == \"female\") %>%\n",
        "  summarise(meanFare = mean(Fare), numSurv = sum(Survived))"
      ],
      "metadata": {
        "id": "lCytuyi99X-r"
      },
      "execution_count": null,
      "outputs": []
    },
    {
      "cell_type": "code",
      "source": [
        "# Use group_by() and summarise() to find the mean fare and number of survivors as a function of sex:\n",
        "passengers %>%\n",
        "  group_by(Sex) %>%\n",
        "  summarise(meanFare = mean(Fare), numSurv = sum(Survived))"
      ],
      "metadata": {
        "id": "NNES-sEW92Ib"
      },
      "execution_count": null,
      "outputs": []
    },
    {
      "cell_type": "markdown",
      "source": [
        "# Processing the data – transformation, normalization…"
      ],
      "metadata": {
        "id": "Fss5zOYeyO45"
      }
    },
    {
      "cell_type": "code",
      "source": [
        "# log-transformation\n",
        "data = c(1200,34567,3456,12,3456,0985,1211)\n",
        "summary(data)\n",
        "\n",
        "log_scale = log(as.data.frame(data))"
      ],
      "metadata": {
        "id": "Lpx_qDkK-1TL"
      },
      "execution_count": null,
      "outputs": []
    },
    {
      "cell_type": "code",
      "source": [
        "# normalisation with standard scaling in R\n",
        "data = c(1200,34567,3456,12,3456,0985,1211)\n",
        "summary(data)\n",
        "\n",
        "scale_data <- as.data.frame(scale(data))"
      ],
      "metadata": {
        "id": "VAifZOrJ-3M2"
      },
      "execution_count": null,
      "outputs": []
    },
    {
      "cell_type": "markdown",
      "source": [
        "# Exploring the data – distribution, outliers…"
      ],
      "metadata": {
        "id": "Nim40dH5yRml"
      }
    },
    {
      "cell_type": "code",
      "source": [
        "# create a dataset with exam scores\n",
        "scores <- c(70, 85, 80, 90, 60, 55, 100, 120, 75, 85)"
      ],
      "metadata": {
        "id": "KAg-hDFYAhm5"
      },
      "execution_count": null,
      "outputs": []
    },
    {
      "cell_type": "code",
      "source": [
        "# To detect outliers using the upper bound, calculate the upper bound as the third quartile plus 1.5 times the interquartile range (IQR):\n",
        "q3 <- quantile(scores, 0.75)\n",
        "iqr <- IQR(scores)\n",
        "upper_bound <- q3 + 1.5*iqr"
      ],
      "metadata": {
        "id": "YUe3iWctAhpc"
      },
      "execution_count": null,
      "outputs": []
    },
    {
      "cell_type": "code",
      "source": [
        "# find which scores are above this upper bound as outliers:\n",
        "outliers_upper <- scores[scores > upper_bound]\n",
        "outliers_upper"
      ],
      "metadata": {
        "id": "q91KVErFAhr2"
      },
      "execution_count": null,
      "outputs": []
    },
    {
      "cell_type": "code",
      "source": [
        "# do the same for lower_bound\n",
        "q1 <- quantile(scores, 0.25)\n",
        "lower_bound <- q1 - 1.5*iqr"
      ],
      "metadata": {
        "id": "khtXL6_HAzZz"
      },
      "execution_count": null,
      "outputs": []
    },
    {
      "cell_type": "code",
      "source": [
        "# find which scores are below this lower bound as outliers:\n",
        "outliers_lower <- scores[scores < lower_bound]\n",
        "outliers_lower"
      ],
      "metadata": {
        "id": "i5T1rVD_A6Wm"
      },
      "execution_count": null,
      "outputs": []
    },
    {
      "cell_type": "code",
      "source": [
        "# Detect outliers using the IQR method, which is based on the difference between the first and third quartiles.\n",
        "\n",
        "# Any score that falls outside the range of Q1–1.5IQR and Q3 + 1.5IQR is considered an outlier.\n",
        "\n",
        "outliers_iqr <- scores[scores < q1 - 1.5*iqr | scores > q3 + 1.5*iqr]\n",
        "outliers_iqr"
      ],
      "metadata": {
        "id": "HsNmFsgdBDkz"
      },
      "execution_count": null,
      "outputs": []
    },
    {
      "cell_type": "markdown",
      "source": [
        "# Analysing the data - statistical testing, correlation..."
      ],
      "metadata": {
        "id": "4jZavRGlybtS"
      }
    },
    {
      "cell_type": "markdown",
      "source": [
        "###  Compute correlation in R"
      ],
      "metadata": {
        "id": "cOmEGbrBB6ZH"
      }
    },
    {
      "cell_type": "code",
      "source": [
        "# cor(x, y, method = c(\"pearson\", \"kendall\", \"spearman\"))\n",
        "# cor.test(x, y, method=c(\"pearson\", \"kendall\", \"spearman\"))"
      ],
      "metadata": {
        "id": "gcJFWD8LBcCW"
      },
      "execution_count": null,
      "outputs": []
    },
    {
      "cell_type": "markdown",
      "source": [
        "**cor()** computes the correlation coefficient\n",
        "\n",
        "**cor.test()** test for association/correlation between paired samples. It returns both the correlation coefficient and the significance level(or p-value) of the correlation"
      ],
      "metadata": {
        "id": "CsNjnpmtBjxW"
      }
    },
    {
      "cell_type": "code",
      "source": [
        "# import built-in dataset\n",
        "my_data <- mtcars\n",
        "head(my_data, 6)"
      ],
      "metadata": {
        "id": "5fIU1FpIBcEz"
      },
      "execution_count": null,
      "outputs": []
    },
    {
      "cell_type": "code",
      "source": [
        "# compute correlations\n",
        "cor_pearson <- cor.test(my_data$wt, my_data$mpg,  method = \"pearson\")\n",
        "cor_spearman <- cor.test(my_data$wt, my_data$mpg,  method = \"spearman\")\n",
        "cor_kendall <- cor.test(my_data$wt, my_data$mpg,  method = \"kendall\")"
      ],
      "metadata": {
        "id": "fivPDuMPBcG7"
      },
      "execution_count": null,
      "outputs": []
    },
    {
      "cell_type": "markdown",
      "source": [
        "### statistical testing - biological example"
      ],
      "metadata": {
        "id": "0pbCOs7NCRs3"
      }
    },
    {
      "cell_type": "code",
      "source": [
        "library(\"rWSBIM1322\")"
      ],
      "metadata": {
        "id": "yQfcfrIHCHcN"
      },
      "execution_count": null,
      "outputs": []
    },
    {
      "cell_type": "code",
      "source": [
        "data(tdata1)\n",
        "head(tdata1)\n",
        "\n",
        "# tdata1 dataset from the rWSBIM1322 package that provide gene expression data for 100 genes and 6 samples, three in group A and 3 in group B."
      ],
      "metadata": {
        "id": "_XjesPMTBcJI"
      },
      "execution_count": null,
      "outputs": []
    },
    {
      "cell_type": "code",
      "source": [
        "# log-transform the data\n",
        "x <- log_tdata1[73, ]\n",
        "\n",
        "# apply a t-test to feature (row) 73, comparing the expression intensities in groups A and B\n",
        "t.test(x[1:3], x[4:6])"
      ],
      "metadata": {
        "id": "Ptz2tf2VBcLT"
      },
      "execution_count": null,
      "outputs": []
    },
    {
      "cell_type": "markdown",
      "source": [],
      "metadata": {
        "id": "wFyijgO066gQ"
      }
    }
  ]
}